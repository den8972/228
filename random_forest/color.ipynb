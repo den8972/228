{
 "cells": [
  {
   "cell_type": "code",
   "execution_count": 1,
   "metadata": {},
   "outputs": [
    {
     "name": "stderr",
     "output_type": "stream",
     "text": [
      "Using TensorFlow backend.\n"
     ]
    }
   ],
   "source": [
    "import os\n",
    "import cv2\n",
    "import numpy as np\n",
    "import mrcnn.model as modellib\n",
    "import matplotlib.pyplot as plt\n",
    "from PIL import Image\n",
    "from skimage.io import imread\n",
    "from skimage.color import gray2rgb\n",
    "from mrcnn import utils\n",
    "from sklearn.ensemble import RandomForestClassifier\n",
    "from samples.coco import coco\n",
    "%matplotlib inline "
   ]
  },
  {
   "cell_type": "code",
   "execution_count": 5,
   "metadata": {},
   "outputs": [],
   "source": [
    "# where model and COCO weights are stored\n",
    "MODEL_PATH = \"./logs\"\n",
    "MODEL_WEIGHTS_PATH = \"./mask_rcnn_coco.h5\"\n",
    "# where data set is\n",
    "data_root = \"../CNNs/CUB_200_2011/CUB_200_2011/\"\n",
    "# root dir to save images after background removal\n",
    "dest = \"./res\"\n",
    "\n",
    "if not os.path.exists(MODEL_WEIGHTS_PATH):\n",
    "    utils.download_trained_weights(MODEL_WEIGHTS_PATH)\n",
    "\n",
    "      \n",
    "class InferenceConfig(coco.CocoConfig):\n",
    "    GPU_COUNT = 1\n",
    "    IMAGES_PER_GPU = 1  "
   ]
  },
  {
   "cell_type": "code",
   "execution_count": 4,
   "metadata": {},
   "outputs": [],
   "source": [
    "config = InferenceConfig()\n",
    "# Create MaskCNN model in inference mode and load weights\n",
    "model = modellib.MaskRCNN(mode=\"inference\", model_dir=MODEL_PATH, config=config)\n",
    "model.load_weights(MODEL_WEIGHTS_PATH, by_name=True)"
   ]
  },
  {
   "cell_type": "code",
   "execution_count": 5,
   "metadata": {},
   "outputs": [],
   "source": [
    "# remove background from image\n",
    "mode = [\"random_forest_train\", \"random_forest_test\"]\n",
    "\n",
    "# class id for bird in COCO\n",
    "bird_id = 15\n",
    "\n",
    "for m in mode:\n",
    "    if not os.path.exists(os.path.join(dest, m)):\n",
    "        os.makedirs(os.path.join(dest, m))\n",
    "\n",
    "for m in mode:\n",
    "    src_dir = os.path.join(data_root, m)\n",
    "    for img in os.listdir(src_dir):\n",
    "        file_name = img.split('.')[0]\n",
    "        # read in one image\n",
    "        image_input = imread(os.path.join(src_dir, img))\n",
    "        # convert to RGB\n",
    "        if image_input.ndim == 2:\n",
    "            image_input = gray2rgb(image_input)\n",
    "        results = model.detect([image_input])\n",
    "\n",
    "\n",
    "        # unpack inference results  \n",
    "        result = results[0]\n",
    "        masks = result['masks'].astype(np.uint8)\n",
    "        scores = result['scores']\n",
    "        rois = result['rois']\n",
    "        \n",
    "        # get result index for all regions identified as bird\n",
    "        idxes = [i for i in range(len(result['class_ids'])) if result['class_ids'][i] == bird_id]\n",
    "        \n",
    "        # keep the one with highest confidence\n",
    "        if len(idxes) > 0:\n",
    "            idx = idxes[0]\n",
    "            max_score = scores[idx]\n",
    "\n",
    "            for index in idxes:\n",
    "                if scores[index] > max_score:\n",
    "                    max_score = scores[index]\n",
    "                    idx = index\n",
    "                \n",
    "            # bounding box for the max\n",
    "            (y1, x1, y2, x2) = rois[idx] \n",
    "            width = x2 - x1\n",
    "            height = y2 - y1\n",
    "            \n",
    "            # get mask for the region containing a bird\n",
    "            bitmap = masks[:,:,idx]   \n",
    "            bitmap[bitmap > 0] = 255    \n",
    "            bitmap = np.tile(bitmap[:, :, None], [1, 1, 3])\n",
    "            \n",
    "            # save result\n",
    "            path_output_image = f'{dest}/{m}/{img}'\n",
    "            image_output = Image.fromarray(np.bitwise_and(image_input, bitmap))\n",
    "            image_output.save(path_output_image)"
   ]
  },
  {
   "cell_type": "code",
   "execution_count": 6,
   "metadata": {},
   "outputs": [],
   "source": [
    "# extraact RGB or HSV color feature from image\n",
    "def extract_hist_feature(img, rgb=True, verbose=False):\n",
    "    src = cv2.cvtColor(img, cv2.COLOR_BGR2HSV) if not rgb else img\n",
    "    chans = cv2.split(src)\n",
    "    colors = (\"b\", \"g\", \"r\")\n",
    "    name = ['Blue', 'Green', 'Red'] if rgb else [\"Hue\", \"Saturation\", \"Value\"]\n",
    "\n",
    "    features = []\n",
    "    \n",
    "    \n",
    "    # loop over the image channels\n",
    "    i = 1\n",
    "    for (chan, color) in zip(chans, colors):\n",
    "        # create a histogram for the current channel and\n",
    "        # concatenate the resulting histograms for each\n",
    "        # channel\n",
    "        hist = cv2.calcHist([chan], [0], None, [10], [10, 210])\n",
    "        hist = hist.reshape(-1)\n",
    "        hist += 1e-5\n",
    "        features.extend(hist / hist.sum())\n",
    "        if verbose:\n",
    "            plt.figure(figsize=(10, 3)) \n",
    "            plt.subplot(1, 3, i)\n",
    "            plt.title(f'{name[i - 1]} Histogram')\n",
    "            plt.xlabel(\"Value\")\n",
    "            plt.ylabel(\"# of Pixels\")\n",
    "            plt.xticks([10 + x * 22 for x in range(10)])\n",
    "            plt.bar([21 + x * 22 for x in range(10)], hist, width=22, color = color)\n",
    "            i += 1\n",
    "            plt.tight_layout()\n",
    "    return features"
   ]
  },
  {
   "cell_type": "code",
   "execution_count": 7,
   "metadata": {},
   "outputs": [],
   "source": [
    "# mapping from image_id to image class\n",
    "img_id2class = {}\n",
    "class_file = os.path.join(data_root, 'image_class_labels.txt')\n",
    "with open(class_file, 'r', encoding='utf-8') as f:\n",
    "    for line in f:\n",
    "        img_id, class_id = map(int, line.rstrip().split(' '))\n",
    "        img_id2class[img_id] = class_id"
   ]
  },
  {
   "cell_type": "code",
   "execution_count": null,
   "metadata": {},
   "outputs": [],
   "source": [
    "train_x = []\n",
    "train_y = []\n",
    "train_dir = os.path.join(dest, \"random_forest_train\")\n",
    "for img in os.listdir(train_dir):\n",
    "    img_id = int(img.split(\".\")[0])\n",
    "    train_y.append(int(img_id2class[img_id]))\n",
    "    train_x.append(extract_hist_feature(cv2.imread(os.path.join(train_dir, img)), rgb=False))"
   ]
  },
  {
   "cell_type": "code",
   "execution_count": 10,
   "metadata": {},
   "outputs": [],
   "source": [
    "classifier = RandomForestClassifier()"
   ]
  },
  {
   "cell_type": "code",
   "execution_count": 11,
   "metadata": {},
   "outputs": [
    {
     "data": {
      "text/plain": [
       "RandomForestClassifier(bootstrap=True, ccp_alpha=0.0, class_weight=None,\n",
       "                       criterion='gini', max_depth=None, max_features='auto',\n",
       "                       max_leaf_nodes=None, max_samples=None,\n",
       "                       min_impurity_decrease=0.0, min_impurity_split=None,\n",
       "                       min_samples_leaf=1, min_samples_split=2,\n",
       "                       min_weight_fraction_leaf=0.0, n_estimators=100,\n",
       "                       n_jobs=None, oob_score=False, random_state=None,\n",
       "                       verbose=0, warm_start=False)"
      ]
     },
     "execution_count": 11,
     "metadata": {},
     "output_type": "execute_result"
    }
   ],
   "source": [
    "classifier.fit(train_x, train_y)"
   ]
  },
  {
   "cell_type": "code",
   "execution_count": 12,
   "metadata": {},
   "outputs": [],
   "source": [
    "test_x = []\n",
    "test_y = []\n",
    "test_dir = os.path.join(dest, \"random_forest_test\")\n",
    "for img in os.listdir(test_dir):\n",
    "    img_id = int(img.split(\".\")[0])\n",
    "    test_y.append(int(img_id2class[img_id]))\n",
    "    test_x.append(extract_hist_feature(cv2.imread(os.path.join(test_dir, img)), rgb=False))"
   ]
  },
  {
   "cell_type": "code",
   "execution_count": 13,
   "metadata": {},
   "outputs": [
    {
     "data": {
      "text/plain": [
       "0.10953878406708595"
      ]
     },
     "execution_count": 13,
     "metadata": {},
     "output_type": "execute_result"
    }
   ],
   "source": [
    "classifier.score(test_x, test_y)"
   ]
  }
 ],
 "metadata": {
  "kernelspec": {
   "display_name": "py37-tf2",
   "language": "python",
   "name": "py37-tf2"
  },
  "language_info": {
   "codemirror_mode": {
    "name": "ipython",
    "version": 3
   },
   "file_extension": ".py",
   "mimetype": "text/x-python",
   "name": "python",
   "nbconvert_exporter": "python",
   "pygments_lexer": "ipython3",
   "version": "3.7.6"
  }
 },
 "nbformat": 4,
 "nbformat_minor": 2
}
