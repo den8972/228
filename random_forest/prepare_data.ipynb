{
 "cells": [
  {
   "cell_type": "code",
   "execution_count": 31,
   "metadata": {},
   "outputs": [],
   "source": [
    "import os\n",
    "from shutil import copyfile"
   ]
  },
  {
   "cell_type": "code",
   "execution_count": 32,
   "metadata": {},
   "outputs": [],
   "source": [
    "data_root = \"/home/b1deng/228/CUB_200_2011\"\n",
    "model_root = \"/home/b1deng/228/Mask_RCNN\"\n",
    "\n",
    "train_test_split = os.path.join(data_root, 'train_test_split.txt')\n",
    "train_dir = os.path.join(data_root, \"train\")\n",
    "test_dir = os.path.join(data_root, \"test\")\n",
    "\n",
    "image_dir = os.path.join(data_root, \"images\")\n",
    "image_file = os.path.join(data_root, 'images.txt')\n",
    "class_file = os.path.join(data_root, 'image_class_labels.txt')"
   ]
  },
  {
   "cell_type": "code",
   "execution_count": 33,
   "metadata": {},
   "outputs": [],
   "source": [
    "if not os.path.exists(train_dir):\n",
    "    os.makedirs(train_dir)\n",
    "if not os.path.exists(test_dir):\n",
    "    os.makedirs(test_dir)"
   ]
  },
  {
   "cell_type": "code",
   "execution_count": 34,
   "metadata": {},
   "outputs": [],
   "source": [
    "img_id2name = {}\n",
    "img_id2class = {}\n",
    "# class_id2name = {}\n",
    "with open(image_mapping_file, 'r', encoding='utf-8') as f:\n",
    "    for line in f:\n",
    "        img_id, img_name = line.rstrip().split(' ')\n",
    "        img_id2name[img_id] = img_name\n",
    "with open(class_file, 'r', encoding='utf-8') as f:\n",
    "    for line in f:\n",
    "        img_id, class_id = line.rstrip().split(' ')\n",
    "        img_id2class[img_id] = class_id"
   ]
  },
  {
   "cell_type": "code",
   "execution_count": 35,
   "metadata": {},
   "outputs": [],
   "source": [
    "with open(train_test_split, 'r', encoding='utf-8') as f:\n",
    "    for line in f:\n",
    "        img_id, is_train = line.rstrip().split(' ')\n",
    "        dest_dir = train_dir if int(is_train) else test_dir\n",
    "        copyfile(os.path.join(image_dir, img_id2name[img_id]), os.path.join(dest_dir, f'{img_id}.jpg'))"
   ]
  }
 ],
 "metadata": {
  "kernelspec": {
   "display_name": "py37-tf2",
   "language": "python",
   "name": "py37-tf2"
  },
  "language_info": {
   "codemirror_mode": {
    "name": "ipython",
    "version": 3
   },
   "file_extension": ".py",
   "mimetype": "text/x-python",
   "name": "python",
   "nbconvert_exporter": "python",
   "pygments_lexer": "ipython3",
   "version": "3.7.6"
  }
 },
 "nbformat": 4,
 "nbformat_minor": 2
}
