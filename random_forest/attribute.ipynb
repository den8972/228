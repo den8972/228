{
 "cells": [
  {
   "cell_type": "markdown",
   "metadata": {},
   "source": [
    "# Import Dependency"
   ]
  },
  {
   "cell_type": "code",
   "execution_count": 2,
   "metadata": {},
   "outputs": [],
   "source": [
    "from collections import OrderedDict\n",
    "from sklearn.ensemble import RandomForestClassifier"
   ]
  },
  {
   "cell_type": "markdown",
   "metadata": {},
   "source": [
    "# Prepare Data and Label"
   ]
  },
  {
   "cell_type": "code",
   "execution_count": 3,
   "metadata": {},
   "outputs": [],
   "source": [
    "attribute_file = \"/home/b1deng/228/attributes.txt\""
   ]
  },
  {
   "cell_type": "code",
   "execution_count": 4,
   "metadata": {},
   "outputs": [],
   "source": [
    "# calculate num of possible values each attribute has \n",
    "type2num = {}\n",
    "with open(attribute_file, 'r', encoding='utf-8') as f:\n",
    "    num = 0\n",
    "    for line in f:\n",
    "        attr_type, _ = line.rstrip().split()[1].split(\"::\")\n",
    "        type2num[attr_type] = type2num.get(attr_type, 0) + 1"
   ]
  },
  {
   "cell_type": "code",
   "execution_count": 5,
   "metadata": {},
   "outputs": [
    {
     "data": {
      "text/plain": [
       "{'has_bill_shape': 9,\n",
       " 'has_wing_color': 15,\n",
       " 'has_upperparts_color': 15,\n",
       " 'has_underparts_color': 15,\n",
       " 'has_breast_pattern': 4,\n",
       " 'has_back_color': 15,\n",
       " 'has_tail_shape': 6,\n",
       " 'has_upper_tail_color': 15,\n",
       " 'has_head_pattern': 11,\n",
       " 'has_breast_color': 15,\n",
       " 'has_throat_color': 15,\n",
       " 'has_eye_color': 14,\n",
       " 'has_bill_length': 3,\n",
       " 'has_forehead_color': 15,\n",
       " 'has_under_tail_color': 15,\n",
       " 'has_nape_color': 15,\n",
       " 'has_belly_color': 15,\n",
       " 'has_wing_shape': 5,\n",
       " 'has_size': 5,\n",
       " 'has_shape': 14,\n",
       " 'has_back_pattern': 4,\n",
       " 'has_tail_pattern': 4,\n",
       " 'has_belly_pattern': 4,\n",
       " 'has_primary_color': 15,\n",
       " 'has_leg_color': 15,\n",
       " 'has_bill_color': 15,\n",
       " 'has_crown_color': 15,\n",
       " 'has_wing_pattern': 4}"
      ]
     },
     "execution_count": 5,
     "metadata": {},
     "output_type": "execute_result"
    }
   ],
   "source": [
    "type2num"
   ]
  },
  {
   "cell_type": "code",
   "execution_count": 6,
   "metadata": {},
   "outputs": [],
   "source": [
    "# only keep attributes related to color\n",
    "filtered_attr = dict((k, type2num[k]) for k in type2num.keys() if 'color' in k)"
   ]
  },
  {
   "cell_type": "code",
   "execution_count": 7,
   "metadata": {},
   "outputs": [
    {
     "data": {
      "text/plain": [
       "{'has_wing_color': 15,\n",
       " 'has_upperparts_color': 15,\n",
       " 'has_underparts_color': 15,\n",
       " 'has_back_color': 15,\n",
       " 'has_upper_tail_color': 15,\n",
       " 'has_breast_color': 15,\n",
       " 'has_throat_color': 15,\n",
       " 'has_eye_color': 14,\n",
       " 'has_forehead_color': 15,\n",
       " 'has_under_tail_color': 15,\n",
       " 'has_nape_color': 15,\n",
       " 'has_belly_color': 15,\n",
       " 'has_primary_color': 15,\n",
       " 'has_leg_color': 15,\n",
       " 'has_bill_color': 15,\n",
       " 'has_crown_color': 15}"
      ]
     },
     "execution_count": 7,
     "metadata": {},
     "output_type": "execute_result"
    }
   ],
   "source": [
    "filtered_attr"
   ]
  },
  {
   "cell_type": "code",
   "execution_count": 8,
   "metadata": {},
   "outputs": [],
   "source": [
    "# color attribute and their id range\n",
    "type2ids = OrderedDict()\n",
    "with open(attribute_file, 'r', encoding='utf-8') as f:\n",
    "    prev_type = \"\"\n",
    "    for line in f:\n",
    "        attr_id, attr = line.rstrip().split()\n",
    "        attr_id = int(attr_id)\n",
    "        attr_type, _ = attr.split(\"::\")\n",
    "        if 'color' in attr_type:\n",
    "            ids = type2ids.get(attr_type, [1000, -1]) # list with placeholder\n",
    "            if ids[0] > attr_id:\n",
    "                ids[0] = attr_id\n",
    "            if ids[1] < attr_id:\n",
    "                ids[1] = attr_id\n",
    "            type2ids[attr_type] = ids"
   ]
  },
  {
   "cell_type": "code",
   "execution_count": 9,
   "metadata": {},
   "outputs": [],
   "source": [
    "type2ids = list(type2ids.items())"
   ]
  },
  {
   "cell_type": "code",
   "execution_count": 10,
   "metadata": {},
   "outputs": [
    {
     "data": {
      "text/plain": [
       "[('has_wing_color', [10, 24]),\n",
       " ('has_upperparts_color', [25, 39]),\n",
       " ('has_underparts_color', [40, 54]),\n",
       " ('has_back_color', [59, 73]),\n",
       " ('has_upper_tail_color', [80, 94]),\n",
       " ('has_breast_color', [106, 120]),\n",
       " ('has_throat_color', [121, 135]),\n",
       " ('has_eye_color', [136, 149]),\n",
       " ('has_forehead_color', [153, 167]),\n",
       " ('has_under_tail_color', [168, 182]),\n",
       " ('has_nape_color', [183, 197]),\n",
       " ('has_belly_color', [198, 212]),\n",
       " ('has_primary_color', [249, 263]),\n",
       " ('has_leg_color', [264, 278]),\n",
       " ('has_bill_color', [279, 293]),\n",
       " ('has_crown_color', [294, 308])]"
      ]
     },
     "execution_count": 10,
     "metadata": {},
     "output_type": "execute_result"
    }
   ],
   "source": [
    "type2ids"
   ]
  },
  {
   "cell_type": "code",
   "execution_count": 11,
   "metadata": {},
   "outputs": [],
   "source": [
    "image_attr_file = \"/home/b1deng/228/CUB_200_2011/attributes/image_attribute_labels.txt\""
   ]
  },
  {
   "cell_type": "code",
   "execution_count": 12,
   "metadata": {},
   "outputs": [],
   "source": [
    "# construct mapping from image id and their features\n",
    "img_id2attrs = {}\n",
    "with open(image_attr_file, 'r', encoding='utf-8') as f:\n",
    "    for line in f:\n",
    "        img_id, attr_id, is_present, _ = map(int, line.rstrip().split(' ')[0: 4])\n",
    "        feature_list = img_id2attrs.get(img_id, [0] * 16)        # 0 means not present, otherwise 1~15 according to class\n",
    "        for idx in range(len(type2ids)):\n",
    "            attr_range = type2ids[idx][1]\n",
    "            if attr_id >= attr_range[0] and attr_id <= attr_range[1] and is_present == 1:\n",
    "                feature_list[idx] = attr_id - attr_range[0] + 1\n",
    "        img_id2attrs[img_id] = feature_list"
   ]
  },
  {
   "cell_type": "code",
   "execution_count": 13,
   "metadata": {},
   "outputs": [],
   "source": [
    "# mapping from image id to train/test split\n",
    "train_test_split = '/home/b1deng/228/CUB_200_2011/train_test_split.txt'\n",
    "img_id2train = {}\n",
    "with open(train_test_split, 'r', encoding='utf-8') as f:\n",
    "    for line in f:\n",
    "        img_id, is_train = map(int, line.rstrip().split(' '))\n",
    "        img_id2train[img_id] = is_train"
   ]
  },
  {
   "cell_type": "code",
   "execution_count": 14,
   "metadata": {},
   "outputs": [],
   "source": [
    "# mapping from image_id to image class\n",
    "img_id2class = {}\n",
    "class_file = '/home/b1deng/228/CUB_200_2011/image_class_labels.txt'\n",
    "with open(class_file, 'r', encoding='utf-8') as f:\n",
    "    for line in f:\n",
    "        img_id, class_id = map(int, line.rstrip().split(' '))\n",
    "        img_id2class[img_id] = class_id"
   ]
  },
  {
   "cell_type": "code",
   "execution_count": 15,
   "metadata": {},
   "outputs": [],
   "source": [
    "train_x = []\n",
    "train_y = []\n",
    "test_x = []\n",
    "test_y = []\n",
    "for img_id, is_train in img_id2train.items():\n",
    "    if is_train:\n",
    "        train_x.append(img_id2attrs[img_id])\n",
    "        train_y.append(img_id2class[img_id])\n",
    "    else:\n",
    "        test_x.append(img_id2attrs[img_id])\n",
    "        test_y.append(img_id2class[img_id])"
   ]
  },
  {
   "cell_type": "markdown",
   "metadata": {},
   "source": [
    "# Train and Test"
   ]
  },
  {
   "cell_type": "code",
   "execution_count": 16,
   "metadata": {},
   "outputs": [
    {
     "data": {
      "text/plain": [
       "RandomForestClassifier(bootstrap=True, ccp_alpha=0.0, class_weight=None,\n",
       "                       criterion='gini', max_depth=None, max_features='auto',\n",
       "                       max_leaf_nodes=None, max_samples=None,\n",
       "                       min_impurity_decrease=0.0, min_impurity_split=None,\n",
       "                       min_samples_leaf=1, min_samples_split=2,\n",
       "                       min_weight_fraction_leaf=0.0, n_estimators=100,\n",
       "                       n_jobs=None, oob_score=False, random_state=None,\n",
       "                       verbose=0, warm_start=False)"
      ]
     },
     "execution_count": 16,
     "metadata": {},
     "output_type": "execute_result"
    }
   ],
   "source": [
    "classifier = RandomForestClassifier()\n",
    "classifier.fit(train_x, train_y)"
   ]
  },
  {
   "cell_type": "code",
   "execution_count": 17,
   "metadata": {},
   "outputs": [
    {
     "data": {
      "text/plain": [
       "0.24577148774594407"
      ]
     },
     "execution_count": 17,
     "metadata": {},
     "output_type": "execute_result"
    }
   ],
   "source": [
    "classifier.score(test_x, test_y)"
   ]
  }
 ],
 "metadata": {
  "kernelspec": {
   "display_name": "py37-tf2",
   "language": "python",
   "name": "py37-tf2"
  },
  "language_info": {
   "codemirror_mode": {
    "name": "ipython",
    "version": 3
   },
   "file_extension": ".py",
   "mimetype": "text/x-python",
   "name": "python",
   "nbconvert_exporter": "python",
   "pygments_lexer": "ipython3",
   "version": "3.7.6"
  }
 },
 "nbformat": 4,
 "nbformat_minor": 2
}
